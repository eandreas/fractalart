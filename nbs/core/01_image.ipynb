{
 "cells": [
  {
   "cell_type": "code",
   "execution_count": null,
   "metadata": {},
   "outputs": [
    {
     "name": "stdout",
     "output_type": "stream",
     "text": [
      "The autoreload extension is already loaded. To reload it, use:\n",
      "  %reload_ext autoreload\n"
     ]
    }
   ],
   "source": [
    "#| hide\n",
    "%load_ext autoreload\n",
    "%autoreload 2"
   ]
  },
  {
   "cell_type": "markdown",
   "metadata": {},
   "source": [
    "# image\n",
    "\n",
    "> Fill in a module description here"
   ]
  },
  {
   "cell_type": "code",
   "execution_count": null,
   "metadata": {},
   "outputs": [],
   "source": [
    "#| default_exp core"
   ]
  },
  {
   "cell_type": "code",
   "execution_count": null,
   "metadata": {},
   "outputs": [],
   "source": [
    "#| hide\n",
    "from nbdev.showdoc import *"
   ]
  },
  {
   "cell_type": "code",
   "execution_count": null,
   "metadata": {},
   "outputs": [],
   "source": [
    "#| export\n",
    "from abc import ABC, abstractmethod\n",
    "import numpy as np"
   ]
  },
  {
   "cell_type": "code",
   "execution_count": null,
   "metadata": {},
   "outputs": [],
   "source": [
    "#| export\n",
    "class Image(ABC):\n",
    "    \"Abstract base class for image rendering and manipulation.\"\n",
    "\n",
    "    def __init__(self, width: int = 800, height: int = 800):\n",
    "        \"Initialize an image with a given resolution.\"\n",
    "        if width <= 0 or height <= 0:\n",
    "            raise ValueError(\"width and height must be positive integers.\")\n",
    "        self._width = width\n",
    "        self._height = height\n",
    "        # TODO: use float instead of np.float32\n",
    "        self._image = np.zeros((self._height, self._width), dtype=float)\n",
    "\n",
    "    @property\n",
    "    def resolution(self) -> tuple[int, int]:\n",
    "        \"Get the resolution (width, height) of the image.\"\n",
    "        return self._width, self._height\n",
    "\n",
    "    @resolution.setter\n",
    "    def resolution(self, res: tuple[int, int]):\n",
    "        \"Set a new resolution for the image and reset the image array.\"\n",
    "        w, h = res\n",
    "        if w <= 0 or h <= 0:\n",
    "            raise ValueError(\"Resolution must be positive integers.\")\n",
    "        self._width = w\n",
    "        self._height = h\n",
    "        # TODO: refactor not to reset image?\n",
    "        self._image = np.zeros((self._height, self._width), dtype=float)  # Reset image\n",
    "\n",
    "    def render(self) -> np.ndarray:\n",
    "        \"Render the image using subclass-defined logic.\"\n",
    "        before = self._image.copy()\n",
    "        self._render()\n",
    "        if np.array_equal(before, self._image):\n",
    "            raise RuntimeError(\"Subclasses must modify self._image during rendering.\")\n",
    "        return self._image\n",
    "\n",
    "    @abstractmethod\n",
    "    def _render(self):\n",
    "        \"Abstract method that subclasses must implement to generate image data.\"\n",
    "        pass\n",
    "\n",
    "    def image(self) -> np.ndarray:\n",
    "        \"Return the current image data.\"\n",
    "        return self._image\n",
    "\n",
    "    def plot(self, cmap: str = \"turbo\"):\n",
    "        \"Display the image using matplotlib.\"\n",
    "        plt.figure(figsize=(10, 10))\n",
    "        plt.imshow(self._image, cmap=cmap)\n",
    "        plt.axis('off')\n",
    "        plt.show()\n",
    "\n",
    "    def equalize_histogram(self):\n",
    "        \"Apply histogram equalization to the image.\"\n",
    "        hist, bins = np.histogram(self._image.flatten(), bins=512, density=True)\n",
    "        cdf = hist.cumsum()  # cumulative distribution function\n",
    "        cdf = cdf / cdf[-1]  # normalize to [0,1]\n",
    "        # Use linear interpolation of cdf to find new pixel values\n",
    "        image_flat = np.interp(self._image.flatten(), bins[:-1], cdf)\n",
    "        self._image = image_flat.reshape(self._image.shape)"
   ]
  },
  {
   "cell_type": "code",
   "execution_count": null,
   "metadata": {},
   "outputs": [],
   "source": [
    "#| hide\n",
    "import nbdev; nbdev.nbdev_export()"
   ]
  },
  {
   "cell_type": "code",
   "execution_count": null,
   "metadata": {},
   "outputs": [],
   "source": []
  }
 ],
 "metadata": {
  "kernelspec": {
   "display_name": "art",
   "language": "python",
   "name": "art"
  }
 },
 "nbformat": 4,
 "nbformat_minor": 4
}
