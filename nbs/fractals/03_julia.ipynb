{
 "cells": [
  {
   "cell_type": "code",
   "execution_count": null,
   "metadata": {},
   "outputs": [],
   "source": [
    "#| hide\n",
    "%load_ext autoreload\n",
    "%autoreload 2\n",
    "%matplotlib inline"
   ]
  },
  {
   "cell_type": "markdown",
   "metadata": {},
   "source": [
    "# julia\n",
    "\n",
    "> An implementation of the Julia set."
   ]
  },
  {
   "cell_type": "code",
   "execution_count": null,
   "metadata": {},
   "outputs": [],
   "source": [
    "#| default_exp fractal.julia"
   ]
  },
  {
   "cell_type": "code",
   "execution_count": null,
   "metadata": {},
   "outputs": [],
   "source": [
    "#| hide\n",
    "from nbdev.showdoc import *"
   ]
  },
  {
   "cell_type": "code",
   "execution_count": null,
   "metadata": {},
   "outputs": [],
   "source": [
    "#| export\n",
    "#from abc import abstractmethod\n",
    "import numpy as np\n",
    "#from fractalart.core import Image\n",
    "from numba import njit, prange\n",
    "#from numba import njit, prange, jit\n",
    "import math\n",
    "#import matplotlib.pyplot as plt\n",
    "from fractalart.fractal.abstract_fractal import Fractal"
   ]
  },
  {
   "cell_type": "code",
   "execution_count": null,
   "metadata": {},
   "outputs": [],
   "source": [
    "#| export\n",
    "_inv_log2 = 1.0 / math.log(2.0)\n",
    "\n",
    "@njit\n",
    "def smooth_coloring(zr, zi, iteration):\n",
    "    mag_sq = zr * zr + zi * zi\n",
    "\n",
    "    # Ensure mag_sq > 1 to avoid log(≤0)\n",
    "    if mag_sq > 1e-8:\n",
    "        log_zn = 0.5 * math.log(mag_sq)\n",
    "        if log_zn > 1e-8:\n",
    "            nu = math.log(log_zn * _inv_log2) * _inv_log2\n",
    "            return iteration + 1 - nu\n",
    "\n",
    "    return float(iteration)\n",
    "    \n",
    "@njit\n",
    "def julia_step(zr, zi, cr, ci):\n",
    "    zr2 = zr * zr\n",
    "    zi2 = zi * zi\n",
    "    zr_new = zr2 - zi2 + cr\n",
    "    zi_new = 2.0 * zr * zi + ci\n",
    "    return zr_new, zi_new"
   ]
  },
  {
   "cell_type": "code",
   "execution_count": null,
   "metadata": {},
   "outputs": [],
   "source": [
    "#| export\n",
    "@njit(parallel=True, fastmath=True)\n",
    "def _compute_julia(x_min: float, x_max: float, y_min: float, y_max: float, cr: float, ci: float, resolution: tuple[int, int],\n",
    "                     max_iter: int, fractal_fn, order: int = 1, smooth: bool = True) -> np.ndarray:\n",
    "    \n",
    "    width, height = resolution\n",
    "    result = np.zeros((height, width), dtype=np.float64)\n",
    "    #r2_cut = max(abs(x_max), abs(x_min)) * max(abs(x_max), abs(x_min)) + max(abs(y_max), abs(y_min)) * max(abs(y_max), abs(y_min))\n",
    "\n",
    "    dx = (x_max - x_min) / (width - 1)\n",
    "    dy = (y_max - y_min) / (height - 1)\n",
    "    inv_log2 = 1.0 / math.log(2.0)\n",
    "\n",
    "    for j in prange(height):\n",
    "        zy = y_min + j * dy\n",
    "        for i in range(width):\n",
    "            zx = x_min + i * dx\n",
    "            zr = zx\n",
    "            zi = zy\n",
    "            cr = cr\n",
    "            ci = ci\n",
    "            iteration = 0\n",
    "\n",
    "            #while zr * zr + zi * zi <= r2_cut and iteration < max_iter:\n",
    "            while zr * zr + zi * zi <= 4.0 and iteration < max_iter:\n",
    "                zr, zi = fractal_fn(zr, zi, cr, ci)\n",
    "                iteration += 1\n",
    "\n",
    "            if smooth and iteration < max_iter:\n",
    "                result[j, i] = smooth_coloring(zr, zi, iteration)\n",
    "            else:\n",
    "                result[j, i] = iteration\n",
    "\n",
    "    return result"
   ]
  },
  {
   "cell_type": "code",
   "execution_count": null,
   "metadata": {},
   "outputs": [],
   "source": [
    "class Julia(Fractal):\n",
    "    def __init__(\n",
    "        self,\n",
    "        x_min: float = None,\n",
    "        x_max: float =  None,\n",
    "        y_min: float = None,\n",
    "        y_max: float =  None,\n",
    "        cr: float = -0.7,\n",
    "        ci: float = 0.27015,\n",
    "        width: int = 600,\n",
    "        height: int = 600,\n",
    "        max_iter: int = 200,\n",
    "    ):\n",
    "        if None in (x_min, x_max, y_min, y_max):\n",
    "            x_min, x_max, y_min, y_max = -1.5, 1.5, -1.5, 1.5\n",
    "        self._x_min, self._x_max = x_min, x_max\n",
    "        self._y_min, self._y_max = y_min, y_max\n",
    "        self.resolution = width, height\n",
    "        self.max_iter = max_iter\n",
    "        self._cr = cr\n",
    "        self._ci = ci\n",
    "        \n",
    "    def compute(self) -> np.ndarray:\n",
    "        return _compute_julia(self._x_min, self._x_max, self._y_min, self._y_max, self._cr, self._ci, \n",
    "                                self.resolution, self._max_iter, julia_step)"
   ]
  },
  {
   "cell_type": "code",
   "execution_count": null,
   "metadata": {},
   "outputs": [
    {
     "ename": "TypingError",
     "evalue": "Failed in nopython mode pipeline (step: nopython frontend)\nNameError: name 'r4' is not defined\nDuring: Pass nopython_type_inference",
     "output_type": "error",
     "traceback": [
      "\u001b[0;31m---------------------------------------------------------------------------\u001b[0m",
      "\u001b[0;31mTypingError\u001b[0m                               Traceback (most recent call last)",
      "Cell \u001b[0;32mIn[8], line 2\u001b[0m\n\u001b[1;32m      1\u001b[0m j \u001b[38;5;241m=\u001b[39m Julia()\n\u001b[0;32m----> 2\u001b[0m \u001b[43mj\u001b[49m\u001b[38;5;241;43m.\u001b[39;49m\u001b[43mrender\u001b[49m\u001b[43m(\u001b[49m\u001b[43m)\u001b[49m\n\u001b[1;32m      3\u001b[0m j\u001b[38;5;241m.\u001b[39mequalize_histogram()\n\u001b[1;32m      4\u001b[0m j\u001b[38;5;241m.\u001b[39mplot()\n",
      "File \u001b[0;32m~/projects/dev/fractalart/fractalart/core.py:49\u001b[0m, in \u001b[0;36mImage.render\u001b[0;34m(self)\u001b[0m\n\u001b[1;32m     47\u001b[0m \u001b[38;5;250m\u001b[39m\u001b[38;5;124;03m\"\"\"Render the image using subclass-defined logic.\"\"\"\u001b[39;00m\n\u001b[1;32m     48\u001b[0m before \u001b[38;5;241m=\u001b[39m \u001b[38;5;28mself\u001b[39m\u001b[38;5;241m.\u001b[39m_image\u001b[38;5;241m.\u001b[39mcopy()\n\u001b[0;32m---> 49\u001b[0m \u001b[38;5;28;43mself\u001b[39;49m\u001b[38;5;241;43m.\u001b[39;49m\u001b[43m_render\u001b[49m\u001b[43m(\u001b[49m\u001b[43m)\u001b[49m\n\u001b[1;32m     50\u001b[0m \u001b[38;5;28;01mif\u001b[39;00m np\u001b[38;5;241m.\u001b[39marray_equal(before, \u001b[38;5;28mself\u001b[39m\u001b[38;5;241m.\u001b[39m_image):\n\u001b[1;32m     51\u001b[0m     \u001b[38;5;28;01mraise\u001b[39;00m \u001b[38;5;167;01mRuntimeError\u001b[39;00m(\u001b[38;5;124m\"\u001b[39m\u001b[38;5;124mSubclasses must modify self._image during rendering.\u001b[39m\u001b[38;5;124m\"\u001b[39m)\n",
      "File \u001b[0;32m~/projects/dev/fractalart/fractalart/fractal/abstract_fractal.py:85\u001b[0m, in \u001b[0;36mFractal._render\u001b[0;34m(self)\u001b[0m\n\u001b[1;32m     83\u001b[0m \u001b[38;5;28;01mdef\u001b[39;00m\u001b[38;5;250m \u001b[39m\u001b[38;5;21m_render\u001b[39m(\u001b[38;5;28mself\u001b[39m):\n\u001b[1;32m     84\u001b[0m \u001b[38;5;250m    \u001b[39m\u001b[38;5;124;03m\"\"\"Generate and store the fractal image using the subclass-defined `compute` method.\"\"\"\u001b[39;00m\n\u001b[0;32m---> 85\u001b[0m     \u001b[38;5;28mself\u001b[39m\u001b[38;5;241m.\u001b[39m_image \u001b[38;5;241m=\u001b[39m \u001b[38;5;28;43mself\u001b[39;49m\u001b[38;5;241;43m.\u001b[39;49m\u001b[43mcompute\u001b[49m\u001b[43m(\u001b[49m\u001b[43m)\u001b[49m\n",
      "Cell \u001b[0;32mIn[7], line 24\u001b[0m, in \u001b[0;36mJulia.compute\u001b[0;34m(self)\u001b[0m\n\u001b[1;32m     23\u001b[0m \u001b[38;5;28;01mdef\u001b[39;00m\u001b[38;5;250m \u001b[39m\u001b[38;5;21mcompute\u001b[39m(\u001b[38;5;28mself\u001b[39m) \u001b[38;5;241m-\u001b[39m\u001b[38;5;241m>\u001b[39m np\u001b[38;5;241m.\u001b[39mndarray:\n\u001b[0;32m---> 24\u001b[0m     \u001b[38;5;28;01mreturn\u001b[39;00m \u001b[43m_compute_julia\u001b[49m\u001b[43m(\u001b[49m\u001b[38;5;28;43mself\u001b[39;49m\u001b[38;5;241;43m.\u001b[39;49m\u001b[43m_x_min\u001b[49m\u001b[43m,\u001b[49m\u001b[43m \u001b[49m\u001b[38;5;28;43mself\u001b[39;49m\u001b[38;5;241;43m.\u001b[39;49m\u001b[43m_x_max\u001b[49m\u001b[43m,\u001b[49m\u001b[43m \u001b[49m\u001b[38;5;28;43mself\u001b[39;49m\u001b[38;5;241;43m.\u001b[39;49m\u001b[43m_y_min\u001b[49m\u001b[43m,\u001b[49m\u001b[43m \u001b[49m\u001b[38;5;28;43mself\u001b[39;49m\u001b[38;5;241;43m.\u001b[39;49m\u001b[43m_y_max\u001b[49m\u001b[43m,\u001b[49m\u001b[43m \u001b[49m\u001b[38;5;28;43mself\u001b[39;49m\u001b[38;5;241;43m.\u001b[39;49m\u001b[43m_cr\u001b[49m\u001b[43m,\u001b[49m\u001b[43m \u001b[49m\u001b[38;5;28;43mself\u001b[39;49m\u001b[38;5;241;43m.\u001b[39;49m\u001b[43m_ci\u001b[49m\u001b[43m,\u001b[49m\u001b[43m \u001b[49m\n\u001b[1;32m     25\u001b[0m \u001b[43m                            \u001b[49m\u001b[38;5;28;43mself\u001b[39;49m\u001b[38;5;241;43m.\u001b[39;49m\u001b[43mresolution\u001b[49m\u001b[43m,\u001b[49m\u001b[43m \u001b[49m\u001b[38;5;28;43mself\u001b[39;49m\u001b[38;5;241;43m.\u001b[39;49m\u001b[43m_max_iter\u001b[49m\u001b[43m,\u001b[49m\u001b[43m \u001b[49m\u001b[43mjulia_step\u001b[49m\u001b[43m)\u001b[49m\n",
      "File \u001b[0;32m~/miniconda3/envs/art/lib/python3.11/site-packages/numba/core/dispatcher.py:424\u001b[0m, in \u001b[0;36m_DispatcherBase._compile_for_args\u001b[0;34m(self, *args, **kws)\u001b[0m\n\u001b[1;32m    420\u001b[0m         msg \u001b[38;5;241m=\u001b[39m (\u001b[38;5;124mf\u001b[39m\u001b[38;5;124m\"\u001b[39m\u001b[38;5;132;01m{\u001b[39;00m\u001b[38;5;28mstr\u001b[39m(e)\u001b[38;5;241m.\u001b[39mrstrip()\u001b[38;5;132;01m}\u001b[39;00m\u001b[38;5;124m \u001b[39m\u001b[38;5;130;01m\\n\u001b[39;00m\u001b[38;5;130;01m\\n\u001b[39;00m\u001b[38;5;124mThis error may have been caused \u001b[39m\u001b[38;5;124m\"\u001b[39m\n\u001b[1;32m    421\u001b[0m                \u001b[38;5;124mf\u001b[39m\u001b[38;5;124m\"\u001b[39m\u001b[38;5;124mby the following argument(s):\u001b[39m\u001b[38;5;130;01m\\n\u001b[39;00m\u001b[38;5;132;01m{\u001b[39;00margs_str\u001b[38;5;132;01m}\u001b[39;00m\u001b[38;5;130;01m\\n\u001b[39;00m\u001b[38;5;124m\"\u001b[39m)\n\u001b[1;32m    422\u001b[0m         e\u001b[38;5;241m.\u001b[39mpatch_message(msg)\n\u001b[0;32m--> 424\u001b[0m     \u001b[43merror_rewrite\u001b[49m\u001b[43m(\u001b[49m\u001b[43me\u001b[49m\u001b[43m,\u001b[49m\u001b[43m \u001b[49m\u001b[38;5;124;43m'\u001b[39;49m\u001b[38;5;124;43mtyping\u001b[39;49m\u001b[38;5;124;43m'\u001b[39;49m\u001b[43m)\u001b[49m\n\u001b[1;32m    425\u001b[0m \u001b[38;5;28;01mexcept\u001b[39;00m errors\u001b[38;5;241m.\u001b[39mUnsupportedError \u001b[38;5;28;01mas\u001b[39;00m e:\n\u001b[1;32m    426\u001b[0m     \u001b[38;5;66;03m# Something unsupported is present in the user code, add help info\u001b[39;00m\n\u001b[1;32m    427\u001b[0m     error_rewrite(e, \u001b[38;5;124m'\u001b[39m\u001b[38;5;124munsupported_error\u001b[39m\u001b[38;5;124m'\u001b[39m)\n",
      "File \u001b[0;32m~/miniconda3/envs/art/lib/python3.11/site-packages/numba/core/dispatcher.py:365\u001b[0m, in \u001b[0;36m_DispatcherBase._compile_for_args.<locals>.error_rewrite\u001b[0;34m(e, issue_type)\u001b[0m\n\u001b[1;32m    363\u001b[0m     \u001b[38;5;28;01mraise\u001b[39;00m e\n\u001b[1;32m    364\u001b[0m \u001b[38;5;28;01melse\u001b[39;00m:\n\u001b[0;32m--> 365\u001b[0m     \u001b[38;5;28;01mraise\u001b[39;00m e\u001b[38;5;241m.\u001b[39mwith_traceback(\u001b[38;5;28;01mNone\u001b[39;00m)\n",
      "\u001b[0;31mTypingError\u001b[0m: Failed in nopython mode pipeline (step: nopython frontend)\nNameError: name 'r4' is not defined\nDuring: Pass nopython_type_inference"
     ]
    }
   ],
   "source": [
    "j = Julia()\n",
    "j.render()\n",
    "j.equalize_histogram()\n",
    "j.plot()"
   ]
  },
  {
   "cell_type": "code",
   "execution_count": null,
   "metadata": {},
   "outputs": [],
   "source": [
    "#| hide\n",
    "import nbdev; nbdev.nbdev_export()"
   ]
  },
  {
   "cell_type": "code",
   "execution_count": null,
   "metadata": {},
   "outputs": [],
   "source": []
  }
 ],
 "metadata": {
  "kernelspec": {
   "display_name": "art",
   "language": "python",
   "name": "art"
  }
 },
 "nbformat": 4,
 "nbformat_minor": 4
}
