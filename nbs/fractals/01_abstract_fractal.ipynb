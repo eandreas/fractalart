{
 "cells": [
  {
   "cell_type": "code",
   "execution_count": null,
   "metadata": {},
   "outputs": [],
   "source": [
    "#| hide\n",
    "%load_ext autoreload\n",
    "%autoreload 2\n",
    "%matplotlib inline"
   ]
  },
  {
   "cell_type": "markdown",
   "metadata": {},
   "source": [
    "# fractal\n",
    "\n",
    "> Abstract class `Fractal` is the basis of all other fractal implementations, providing all base functionality a fractal needs."
   ]
  },
  {
   "cell_type": "code",
   "execution_count": null,
   "metadata": {},
   "outputs": [],
   "source": [
    "#| default_exp fractal.abstract_fractal"
   ]
  },
  {
   "cell_type": "code",
   "execution_count": null,
   "metadata": {},
   "outputs": [],
   "source": [
    "#| hide\n",
    "from nbdev.showdoc import *"
   ]
  },
  {
   "cell_type": "code",
   "execution_count": null,
   "metadata": {},
   "outputs": [],
   "source": [
    "#| export\n",
    "from abc import abstractmethod\n",
    "import numpy as np\n",
    "from fractalart.core import Image\n",
    "import matplotlib.pyplot as plt"
   ]
  },
  {
   "cell_type": "code",
   "execution_count": null,
   "metadata": {},
   "outputs": [],
   "source": [
    "#| export\n",
    "class Fractal(Image):\n",
    "    \"\"\"Abstract base class for generating fractal images.\"\"\"\n",
    "\n",
    "    @abstractmethod\n",
    "    def compute(self) -> np.ndarray:\n",
    "        \"\"\"Abstract method to compute the fractal array. Must be implemented by subclasses.\"\"\"\n",
    "        pass\n",
    "\n",
    "    @property\n",
    "    def max_iter(self) -> int:\n",
    "        \"\"\"Maximum number of iterations used in fractal computation.\"\"\"\n",
    "        return self._max_iter\n",
    "\n",
    "    @max_iter.setter\n",
    "    def max_iter(self, value: int):\n",
    "        if value <= 0:\n",
    "            raise ValueError(\"max_iter must be a positive integer.\")\n",
    "        self._max_iter = value\n",
    "\n",
    "    def plot(self, cmap: str = \"turbo\"):\n",
    "        \"\"\"Display the rendered fractal image using matplotlib.\"\"\"\n",
    "        # TODO : Us lighter image plotting, e. g. using PIL.Image or cv2\n",
    "        plt.figure(figsize=(8, 8))\n",
    "        plt.imshow(\n",
    "            self._image,\n",
    "            cmap=cmap,\n",
    "            extent=[self._x_min, self._x_max, self._y_min, self._y_max],\n",
    "            origin='lower'\n",
    "        )\n",
    "        plt.axis('off')\n",
    "        plt.show()\n",
    "\n",
    "    @property\n",
    "    def bounds(self, x_min: float, x_max: float, y_min: float, y_max: float):\n",
    "        \"\"\"\n",
    "        Set the bounds of the fractal image in the complex plane.\n",
    "        \n",
    "        Args:\n",
    "            x_min: Minimum x (real) coordinate.\n",
    "            x_max: Maximum x (real) coordinate.\n",
    "            y_min: Minimum y (imaginary) coordinate.\n",
    "            y_max: Maximum y (imaginary) coordinate.\n",
    "        \"\"\"\n",
    "        if x_min >= x_max:\n",
    "            raise ValueError(\"x_min must be less than x_max\")\n",
    "        if y_min >= y_max:\n",
    "            raise ValueError(\"y_min must be less than y_max\")\n",
    "        \n",
    "        self._x_min = x_min\n",
    "        self._x_max = x_max\n",
    "        self._y_min = y_min\n",
    "        self._y_max = y_max\n",
    "    \n",
    "    def set_zoom(self, zoom: float, center: tuple[float, float]):\n",
    "        \"\"\"\n",
    "        Zoom into the fractal at a specific center.\n",
    "\n",
    "        Args:\n",
    "            zoom: Zoom factor (higher is closer).\n",
    "            center: (x, y) center coordinates in the complex plane.\n",
    "        \"\"\"\n",
    "        if zoom <= 0:\n",
    "            raise ValueError(\"zoom must be a positive number.\")\n",
    "        cx, cy = center\n",
    "        delta = (self._x_max - self._x_min) / (2 * zoom)\n",
    "        self._x_min, self._x_max = cx - delta, cx + delta\n",
    "        self._y_min, self._y_max = cy - delta, cy + delta\n",
    "\n",
    "    def _render(self):\n",
    "        \"\"\"Generate and store the fractal image using the subclass-defined `compute` method.\"\"\"\n",
    "        self._image = self.compute()"
   ]
  },
  {
   "cell_type": "code",
   "execution_count": null,
   "metadata": {},
   "outputs": [],
   "source": [
    "#| hide\n",
    "import nbdev; nbdev.nbdev_export()"
   ]
  },
  {
   "cell_type": "code",
   "execution_count": null,
   "metadata": {},
   "outputs": [],
   "source": []
  }
 ],
 "metadata": {
  "kernelspec": {
   "display_name": "art",
   "language": "python",
   "name": "art"
  }
 },
 "nbformat": 4,
 "nbformat_minor": 4
}
