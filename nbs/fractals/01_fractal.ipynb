{
 "cells": [
  {
   "cell_type": "code",
   "execution_count": null,
   "metadata": {},
   "outputs": [],
   "source": [
    "#| hide\n",
    "%load_ext autoreload\n",
    "%autoreload 2"
   ]
  },
  {
   "cell_type": "markdown",
   "metadata": {},
   "source": [
    "# fractal\n",
    "\n",
    "> Fill in a module description here"
   ]
  },
  {
   "cell_type": "code",
   "execution_count": null,
   "metadata": {},
   "outputs": [],
   "source": [
    "#| default_exp fractal"
   ]
  },
  {
   "cell_type": "code",
   "execution_count": null,
   "metadata": {},
   "outputs": [],
   "source": [
    "#| hide\n",
    "from nbdev.showdoc import *"
   ]
  },
  {
   "cell_type": "code",
   "execution_count": null,
   "metadata": {},
   "outputs": [],
   "source": [
    "#| export\n",
    "from abc import abstractmethod\n",
    "import numpy as np\n",
    "from fractalart.core import Image"
   ]
  },
  {
   "cell_type": "code",
   "execution_count": null,
   "metadata": {},
   "outputs": [],
   "source": [
    "#| export\n",
    "class Fractal(Image):\n",
    "    def __init__(self, x_min: float = -2.0, x_max: float = 1.0, y_min: float = -1.5, y_max: float = 1.5, max_iter: int = 1000):\n",
    "        self._x_min = x_min\n",
    "        self._x_max = x_max\n",
    "        self._y_min = y_min\n",
    "        self._y_max = y_max\n",
    "        if max_iter <= 0:\n",
    "            raise ValueError(\"max_iter and height must be positive integers.\")\n",
    "        self._max_iter = max_iter\n",
    "\n",
    "    @abstractmethod\n",
    "    def compute(self) -> np.ndarray:\n",
    "        pass\n",
    "\n",
    "    @property\n",
    "    def max_iter(self) -> int:\n",
    "        return self._max_iter\n",
    "\n",
    "    @max_iter.setter\n",
    "    def max_iter(self, value: int):\n",
    "        if value <= 0:\n",
    "            raise ValueError(\"max_iter must be a positive integer.\")\n",
    "        self._max_iter = value\n",
    "\n",
    "    def plot(self, cmap: str = \"turbo\"):\n",
    "        \"\"\"Plot the rendered image using matplotlib.\"\"\"\n",
    "        plt.figure(figsize=(10, 10))\n",
    "        plt.imshow(self._image, cmap=cmap, extent=[self._x_min, self._x_max, self._y_min, self._y_max])\n",
    "        plt.show()\n",
    "\n",
    "    def set_zoom(self, zoom: float, center: tuple[float, float]):\n",
    "        delta = 2 / zoom\n",
    "        self._x_min, self._y_min = center[0] - delta, center[1] - delta\n",
    "        self._x_max, self._y_max = center[0] + delta, center[1] + delta\n",
    "\n",
    "    def render(self) -> np.ndarray:\n",
    "        width, height = self.resolution\n",
    "        return self.compute()"
   ]
  },
  {
   "cell_type": "code",
   "execution_count": null,
   "metadata": {},
   "outputs": [],
   "source": [
    "#| hide\n",
    "import nbdev; nbdev.nbdev_export()"
   ]
  },
  {
   "cell_type": "code",
   "execution_count": null,
   "metadata": {},
   "outputs": [],
   "source": []
  }
 ],
 "metadata": {
  "kernelspec": {
   "display_name": "art",
   "language": "python",
   "name": "art"
  }
 },
 "nbformat": 4,
 "nbformat_minor": 4
}
